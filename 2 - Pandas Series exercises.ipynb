{
  "cells": [
    {
      "cell_type": "markdown",
      "metadata": {
        "id": "view-in-github",
        "colab_type": "text"
      },
      "source": [
        "<a href=\"https://colab.research.google.com/github/ssummerlin/CONY/blob/master/2%20-%20Pandas%20Series%20exercises.ipynb\" target=\"_parent\"><img src=\"https://colab.research.google.com/assets/colab-badge.svg\" alt=\"Open In Colab\"/></a>"
      ]
    },
    {
      "cell_type": "markdown",
      "source": [],
      "metadata": {
        "id": "HIFtnZZR57VI"
      }
    },
    {
      "cell_type": "markdown",
      "metadata": {
        "id": "Ko-OaGqx52_2"
      },
      "source": [
        "![rmotr](https://user-images.githubusercontent.com/7065401/52071918-bda15380-2562-11e9-828c-7f95297e4a82.png)\n",
        "<hr style=\"margin-bottom: 40px;\">\n",
        "\n",
        "# Pandas Series exercises\n"
      ]
    },
    {
      "cell_type": "code",
      "execution_count": 60,
      "metadata": {
        "id": "DBAKn7fG53AA",
        "outputId": "2a4daf42-b0b9-49f7-f31b-b2a54324d5b3",
        "colab": {
          "base_uri": "https://localhost:8080/"
        }
      },
      "outputs": [
        {
          "output_type": "stream",
          "name": "stdout",
          "text": [
            "1.3.5\n"
          ]
        }
      ],
      "source": [
        "# Import the numpy package under the name np\n",
        "import numpy as np\n",
        "\n",
        "# Import the pandas package under the name pd\n",
        "import pandas as pd\n",
        "\n",
        "# Print the pandas version and the configuration\n",
        "print(pd.__version__)"
      ]
    },
    {
      "cell_type": "markdown",
      "metadata": {
        "id": "QfAwYLeN53AD"
      },
      "source": [
        "![purple-divider](https://user-images.githubusercontent.com/7065401/52071927-c1cd7100-2562-11e9-908a-dde91ba14e59.png)\n",
        "\n",
        "## Series creation"
      ]
    },
    {
      "cell_type": "markdown",
      "metadata": {
        "id": "zEnuetJx53AD"
      },
      "source": [
        "### Create an empty pandas Series"
      ]
    },
    {
      "cell_type": "code",
      "execution_count": 61,
      "metadata": {
        "id": "D2gUOaaI53AE",
        "outputId": "8d117c33-fb26-468b-c805-736ead6f9458",
        "colab": {
          "base_uri": "https://localhost:8080/"
        }
      },
      "outputs": [
        {
          "output_type": "stream",
          "name": "stderr",
          "text": [
            "<ipython-input-61-c08eb7801d2e>:2: DeprecationWarning: The default dtype for empty Series will be 'object' instead of 'float64' in a future version. Specify a dtype explicitly to silence this warning.\n",
            "  shaunsProject = pd.Series()\n"
          ]
        }
      ],
      "source": [
        "import pandas as pd\n",
        "shaunsProject = pd.Series()\n"
      ]
    },
    {
      "cell_type": "code",
      "execution_count": 62,
      "metadata": {
        "cell_type": "solution",
        "id": "en2zoL3353AF",
        "outputId": "529e6a95-e172-4846-da4b-cabcc439f0db",
        "colab": {
          "base_uri": "https://localhost:8080/"
        }
      },
      "outputs": [
        {
          "output_type": "stream",
          "name": "stderr",
          "text": [
            "<ipython-input-62-fa15c544da3b>:1: DeprecationWarning: The default dtype for empty Series will be 'object' instead of 'float64' in a future version. Specify a dtype explicitly to silence this warning.\n",
            "  pd.Series()\n"
          ]
        },
        {
          "output_type": "execute_result",
          "data": {
            "text/plain": [
              "Series([], dtype: float64)"
            ]
          },
          "metadata": {},
          "execution_count": 62
        }
      ],
      "source": [
        "pd.Series()"
      ]
    },
    {
      "cell_type": "markdown",
      "metadata": {
        "id": "qFQqNIwZ53AF"
      },
      "source": [
        "![green-divider](https://user-images.githubusercontent.com/7065401/52071924-c003ad80-2562-11e9-8297-1c6595f8a7ff.png)\n",
        "\n",
        "### Given the X python list convert it to an Y pandas Series"
      ]
    },
    {
      "cell_type": "code",
      "execution_count": 63,
      "metadata": {
        "id": "Ia62v0TX53AG",
        "outputId": "2f4adfda-1b1f-4c88-f2b8-7cc53be8f0d0",
        "colab": {
          "base_uri": "https://localhost:8080/"
        }
      },
      "outputs": [
        {
          "output_type": "stream",
          "name": "stdout",
          "text": [
            "('A', 'B', 'C') <class 'tuple'>\n",
            "0    A\n",
            "1    B\n",
            "2    C\n",
            "dtype: object <class 'pandas.core.series.Series'>\n"
          ]
        }
      ],
      "source": [
        "X = ('A', 'B', 'C')\n",
        "print(X, type(X))\n",
        "Y = pd.Series(X)\n",
        "print(Y, type(Y))\n",
        "\n"
      ]
    },
    {
      "cell_type": "code",
      "execution_count": 64,
      "metadata": {
        "cell_type": "solution",
        "id": "OZ9XZ-a753AH",
        "outputId": "ba6e7d93-bb72-419d-c46c-1fc0b48b864c",
        "colab": {
          "base_uri": "https://localhost:8080/"
        }
      },
      "outputs": [
        {
          "output_type": "stream",
          "name": "stdout",
          "text": [
            "['A', 'B', 'C'] <class 'list'>\n",
            "0    A\n",
            "1    B\n",
            "2    C\n",
            "dtype: object <class 'pandas.core.series.Series'>\n"
          ]
        }
      ],
      "source": [
        "X = ['A','B','C']\n",
        "print(X, type(X))\n",
        "\n",
        "Y = pd.Series(X)\n",
        "print(Y, type(Y)) # different type"
      ]
    },
    {
      "cell_type": "markdown",
      "metadata": {
        "id": "YilH8er053AJ"
      },
      "source": [
        "![green-divider](https://user-images.githubusercontent.com/7065401/52071924-c003ad80-2562-11e9-8297-1c6595f8a7ff.png)\n",
        "\n",
        "### Given the X pandas Series, name it 'My letters'"
      ]
    },
    {
      "cell_type": "code",
      "execution_count": 65,
      "metadata": {
        "id": "qvUhltOG53AJ"
      },
      "outputs": [],
      "source": [
        "X = pd.Series(['A', 'B', 'C'])\n"
      ]
    },
    {
      "cell_type": "code",
      "execution_count": 66,
      "metadata": {
        "cell_type": "solution",
        "id": "h9cZI87553AK",
        "outputId": "bd7e5b49-1382-4ca2-ce43-45f91070d049",
        "colab": {
          "base_uri": "https://localhost:8080/"
        }
      },
      "outputs": [
        {
          "output_type": "execute_result",
          "data": {
            "text/plain": [
              "0    A\n",
              "1    B\n",
              "2    C\n",
              "Name: My letters, dtype: object"
            ]
          },
          "metadata": {},
          "execution_count": 66
        }
      ],
      "source": [
        "X = pd.Series(['A','B','C'])\n",
        "\n",
        "X.name = 'My letters'\n",
        "X"
      ]
    },
    {
      "cell_type": "markdown",
      "metadata": {
        "id": "T6WjSOn053AK"
      },
      "source": [
        "![green-divider](https://user-images.githubusercontent.com/7065401/52071924-c003ad80-2562-11e9-8297-1c6595f8a7ff.png)\n",
        "\n",
        "### Given the X pandas Series, show its values\n"
      ]
    },
    {
      "cell_type": "code",
      "execution_count": 67,
      "metadata": {
        "id": "fVrnGqlI53AL",
        "outputId": "279984aa-6775-428e-ad2d-e7062e2045f0",
        "colab": {
          "base_uri": "https://localhost:8080/"
        }
      },
      "outputs": [
        {
          "output_type": "stream",
          "name": "stdout",
          "text": [
            "0    A\n",
            "1    B\n",
            "2    C\n",
            "Name: My Letters, dtype: object\n"
          ]
        }
      ],
      "source": [
        "X = pd.Series(['A','B','C'], name='My Letters')\n",
        "print(X)\n"
      ]
    },
    {
      "cell_type": "code",
      "execution_count": 68,
      "metadata": {
        "cell_type": "solution",
        "id": "GyDY6SOp53AL",
        "outputId": "8ca041fa-19ae-4e74-bcde-10417f3bf61c",
        "colab": {
          "base_uri": "https://localhost:8080/"
        }
      },
      "outputs": [
        {
          "output_type": "execute_result",
          "data": {
            "text/plain": [
              "array(['A', 'B', 'C'], dtype=object)"
            ]
          },
          "metadata": {},
          "execution_count": 68
        }
      ],
      "source": [
        "X = pd.Series(['A','B','C'])\n",
        "\n",
        "X.values"
      ]
    },
    {
      "cell_type": "markdown",
      "metadata": {
        "id": "E2gs6BXV53AL"
      },
      "source": [
        "![purple-divider](https://user-images.githubusercontent.com/7065401/52071927-c1cd7100-2562-11e9-908a-dde91ba14e59.png)\n",
        "\n",
        "## Series indexation"
      ]
    },
    {
      "cell_type": "markdown",
      "metadata": {
        "id": "QMoUmijx53AM"
      },
      "source": [
        "### Assign index names to the given X pandas Series\n"
      ]
    },
    {
      "cell_type": "code",
      "execution_count": 69,
      "metadata": {
        "id": "smwpHPFs53AM",
        "outputId": "6aa90700-ef3c-455e-b8b4-abcf1caa14cd",
        "colab": {
          "base_uri": "https://localhost:8080/"
        }
      },
      "outputs": [
        {
          "output_type": "stream",
          "name": "stdout",
          "text": [
            "first     A\n",
            "second    B\n",
            "third     C\n",
            "dtype: object\n"
          ]
        }
      ],
      "source": [
        "X.index = index_names\n",
        "print(X)\n"
      ]
    },
    {
      "cell_type": "code",
      "execution_count": 70,
      "metadata": {
        "cell_type": "solution",
        "id": "6-lRMvcw53AM",
        "outputId": "1dc00c02-51c1-4c41-99af-4b5f0a302272",
        "colab": {
          "base_uri": "https://localhost:8080/"
        }
      },
      "outputs": [
        {
          "output_type": "execute_result",
          "data": {
            "text/plain": [
              "first     A\n",
              "second    B\n",
              "third     C\n",
              "dtype: object"
            ]
          },
          "metadata": {},
          "execution_count": 70
        }
      ],
      "source": [
        "X = pd.Series(['A','B','C'])\n",
        "index_names = ['first', 'second', 'third']\n",
        "\n",
        "X.index = index_names\n",
        "X"
      ]
    },
    {
      "cell_type": "markdown",
      "metadata": {
        "id": "I5QW4lMQ53AN"
      },
      "source": [
        "![green-divider](https://user-images.githubusercontent.com/7065401/52071924-c003ad80-2562-11e9-8297-1c6595f8a7ff.png)\n",
        "\n",
        "### Given the X pandas Series, show its first element\n"
      ]
    },
    {
      "cell_type": "code",
      "execution_count": 71,
      "metadata": {
        "id": "5KREvbab53AN",
        "outputId": "ee691a03-e556-4a8f-ad88-060d38c4192b",
        "colab": {
          "base_uri": "https://localhost:8080/"
        }
      },
      "outputs": [
        {
          "output_type": "stream",
          "name": "stdout",
          "text": [
            "A\n",
            "A\n",
            "A\n"
          ]
        }
      ],
      "source": [
        "X = pd.Series(['A', 'B', 'C'], index=['first', 'second', 'third'])\n",
        "print(X['first'])\n",
        "print(X.iloc[0])\n",
        "print(X[0])"
      ]
    },
    {
      "cell_type": "code",
      "execution_count": 72,
      "metadata": {
        "cell_type": "solution",
        "id": "lru_eycY53AO",
        "outputId": "682522ec-fd75-450e-a284-92362230a6a1",
        "colab": {
          "base_uri": "https://localhost:8080/",
          "height": 37
        }
      },
      "outputs": [
        {
          "output_type": "execute_result",
          "data": {
            "text/plain": [
              "'A'"
            ],
            "application/vnd.google.colaboratory.intrinsic+json": {
              "type": "string"
            }
          },
          "metadata": {},
          "execution_count": 72
        }
      ],
      "source": [
        "X = pd.Series(['A','B','C'], index=['first', 'second', 'third'])\n",
        "\n",
        "#X[0] # by position\n",
        "#X.iloc[0] # by position\n",
        "X['first'] # by index"
      ]
    },
    {
      "cell_type": "markdown",
      "metadata": {
        "id": "W-9mfb1L53AP"
      },
      "source": [
        "![green-divider](https://user-images.githubusercontent.com/7065401/52071924-c003ad80-2562-11e9-8297-1c6595f8a7ff.png)\n",
        "\n",
        "### Given the X pandas Series, show its last element\n"
      ]
    },
    {
      "cell_type": "code",
      "execution_count": 73,
      "metadata": {
        "id": "SqDSsyQ553AQ",
        "outputId": "9a51287b-7c00-4b4e-a2ca-0066c97874d4",
        "colab": {
          "base_uri": "https://localhost:8080/"
        }
      },
      "outputs": [
        {
          "output_type": "stream",
          "name": "stdout",
          "text": [
            "C\n"
          ]
        }
      ],
      "source": [
        "print(X['third'])\n"
      ]
    },
    {
      "cell_type": "code",
      "execution_count": 74,
      "metadata": {
        "cell_type": "solution",
        "id": "P_hiY7-653AQ",
        "outputId": "e344265a-ba1c-4216-a470-521f3dc21267",
        "colab": {
          "base_uri": "https://localhost:8080/",
          "height": 37
        }
      },
      "outputs": [
        {
          "output_type": "execute_result",
          "data": {
            "text/plain": [
              "'C'"
            ],
            "application/vnd.google.colaboratory.intrinsic+json": {
              "type": "string"
            }
          },
          "metadata": {},
          "execution_count": 74
        }
      ],
      "source": [
        "X = pd.Series(['A','B','C'], index=['first', 'second', 'third'])\n",
        "\n",
        "#X[-1] # by position\n",
        "#X.iloc[-1] # by position\n",
        "X['third'] # by index"
      ]
    },
    {
      "cell_type": "markdown",
      "metadata": {
        "id": "LIR2FOY953AQ"
      },
      "source": [
        "![green-divider](https://user-images.githubusercontent.com/7065401/52071924-c003ad80-2562-11e9-8297-1c6595f8a7ff.png)\n",
        "\n",
        "### Given the X pandas Series, show all middle elements\n"
      ]
    },
    {
      "cell_type": "code",
      "execution_count": 75,
      "metadata": {
        "id": "BmFXNOy353AR",
        "outputId": "440f16a1-52ee-4149-e4b2-ee3769681e18",
        "colab": {
          "base_uri": "https://localhost:8080/"
        }
      },
      "outputs": [
        {
          "output_type": "stream",
          "name": "stdout",
          "text": [
            "Series([], dtype: object)\n"
          ]
        }
      ],
      "source": [
        "print(X[-1:1])\n"
      ]
    },
    {
      "cell_type": "code",
      "execution_count": 76,
      "metadata": {
        "cell_type": "solution",
        "id": "77xFAHzY53AR",
        "outputId": "4260d6b4-6007-48e7-ebb5-961353e9b622",
        "colab": {
          "base_uri": "https://localhost:8080/"
        }
      },
      "outputs": [
        {
          "output_type": "execute_result",
          "data": {
            "text/plain": [
              "second    B\n",
              "third     C\n",
              "forth     D\n",
              "dtype: object"
            ]
          },
          "metadata": {},
          "execution_count": 76
        }
      ],
      "source": [
        "X = pd.Series(['A','B','C','D','E'],\n",
        "              index=['first','second','third','forth','fifth'])\n",
        "\n",
        "#X[['second', 'third', 'forth']]\n",
        "#X.iloc[1:-1] # by position\n",
        "X[1:-1] # by position"
      ]
    },
    {
      "cell_type": "markdown",
      "metadata": {
        "id": "6f_MfKpf53AR"
      },
      "source": [
        "![green-divider](https://user-images.githubusercontent.com/7065401/52071924-c003ad80-2562-11e9-8297-1c6595f8a7ff.png)\n",
        "\n",
        "### Given the X pandas Series, show the elements in reverse position\n"
      ]
    },
    {
      "cell_type": "code",
      "execution_count": 77,
      "metadata": {
        "id": "d5q_pjOK53AS",
        "outputId": "0ea7e48c-1e5f-4d2f-b426-b032d6416ff3",
        "colab": {
          "base_uri": "https://localhost:8080/"
        }
      },
      "outputs": [
        {
          "output_type": "stream",
          "name": "stdout",
          "text": [
            "fifth     E\n",
            "forth     D\n",
            "third     C\n",
            "second    B\n",
            "first     A\n",
            "dtype: object\n"
          ]
        }
      ],
      "source": [
        "reversePos = X[::-1]\n",
        "print(reversePos)\n"
      ]
    },
    {
      "cell_type": "code",
      "execution_count": 78,
      "metadata": {
        "cell_type": "solution",
        "id": "dagClMWI53AS",
        "outputId": "2720c977-3f82-493e-9752-a5689b7c88c7",
        "colab": {
          "base_uri": "https://localhost:8080/"
        }
      },
      "outputs": [
        {
          "output_type": "execute_result",
          "data": {
            "text/plain": [
              "fifth     E\n",
              "forth     D\n",
              "third     C\n",
              "second    B\n",
              "first     A\n",
              "dtype: object"
            ]
          },
          "metadata": {},
          "execution_count": 78
        }
      ],
      "source": [
        "X = pd.Series(['A','B','C','D','E'],\n",
        "              index=['first','second','third','forth','fifth'])\n",
        "\n",
        "#X.iloc[::-1]\n",
        "X[::-1]"
      ]
    },
    {
      "cell_type": "markdown",
      "metadata": {
        "id": "OhBrGizF53AS"
      },
      "source": [
        "![green-divider](https://user-images.githubusercontent.com/7065401/52071924-c003ad80-2562-11e9-8297-1c6595f8a7ff.png)\n",
        "\n",
        "### Given the X pandas Series, show the first and last elements\n"
      ]
    },
    {
      "cell_type": "code",
      "execution_count": 79,
      "metadata": {
        "id": "7sSjicVX53AT",
        "outputId": "ee9d3fc3-087e-4f95-daf4-c75cd4d1ac9f",
        "colab": {
          "base_uri": "https://localhost:8080/"
        }
      },
      "outputs": [
        {
          "output_type": "execute_result",
          "data": {
            "text/plain": [
              "first     A\n",
              "second    B\n",
              "dtype: object"
            ]
          },
          "metadata": {},
          "execution_count": 79
        }
      ],
      "source": [
        "X[[0, 1]]\n"
      ]
    },
    {
      "cell_type": "code",
      "execution_count": 80,
      "metadata": {
        "cell_type": "solution",
        "id": "yr2-uQYW53AT",
        "outputId": "522d9c89-f24a-4e4d-fbe8-c3a312bb7c59",
        "colab": {
          "base_uri": "https://localhost:8080/"
        }
      },
      "outputs": [
        {
          "output_type": "execute_result",
          "data": {
            "text/plain": [
              "first    A\n",
              "fifth    E\n",
              "dtype: object"
            ]
          },
          "metadata": {},
          "execution_count": 80
        }
      ],
      "source": [
        "X = pd.Series(['A','B','C','D','E'],\n",
        "              index=['first','second','third','forth','fifth'])\n",
        "\n",
        "#X[['first', 'fifth']]\n",
        "#X.iloc[[0, -1]]\n",
        "X[[0, -1]]"
      ]
    },
    {
      "cell_type": "markdown",
      "metadata": {
        "id": "KH3KS2FE53AT"
      },
      "source": [
        "![purple-divider](https://user-images.githubusercontent.com/7065401/52071927-c1cd7100-2562-11e9-908a-dde91ba14e59.png)\n",
        "\n",
        "## Series manipulation"
      ]
    },
    {
      "cell_type": "markdown",
      "metadata": {
        "id": "tATh1ec053AU"
      },
      "source": [
        "### Convert the given integer pandas Series to float\n"
      ]
    },
    {
      "cell_type": "code",
      "execution_count": 81,
      "metadata": {
        "id": "pWfOKmij53AU",
        "outputId": "0963b5e1-090b-4713-cabc-3cb05348ff6a",
        "colab": {
          "base_uri": "https://localhost:8080/"
        }
      },
      "outputs": [
        {
          "output_type": "execute_result",
          "data": {
            "text/plain": [
              "first     A\n",
              "second    B\n",
              "third     C\n",
              "forth     D\n",
              "fifth     E\n",
              "dtype: object"
            ]
          },
          "metadata": {},
          "execution_count": 81
        }
      ],
      "source": [
        "import numpy as np \n",
        "pd.Series(X, dtype=np.float64)\n",
        "\n"
      ]
    },
    {
      "cell_type": "code",
      "execution_count": 82,
      "metadata": {
        "cell_type": "solution",
        "id": "knK5QfZB53AU",
        "outputId": "7fd7f32c-de1a-413a-9b75-341160a83e42",
        "colab": {
          "base_uri": "https://localhost:8080/"
        }
      },
      "outputs": [
        {
          "output_type": "stream",
          "name": "stderr",
          "text": [
            "<ipython-input-82-a7818c281d65>:4: DeprecationWarning: `np.float` is a deprecated alias for the builtin `float`. To silence this warning, use `float` by itself. Doing this will not modify any behavior and is safe. If you specifically wanted the numpy scalar type, use `np.float64` here.\n",
            "Deprecated in NumPy 1.20; for more details and guidance: https://numpy.org/devdocs/release/1.20.0-notes.html#deprecations\n",
            "  pd.Series(X, dtype=np.float)\n"
          ]
        },
        {
          "output_type": "execute_result",
          "data": {
            "text/plain": [
              "first     1.0\n",
              "second    2.0\n",
              "third     3.0\n",
              "forth     4.0\n",
              "fifth     5.0\n",
              "dtype: float64"
            ]
          },
          "metadata": {},
          "execution_count": 82
        }
      ],
      "source": [
        "X = pd.Series([1,2,3,4,5],\n",
        "              index=['first','second','third','forth','fifth'])\n",
        "\n",
        "pd.Series(X, dtype=np.float)"
      ]
    },
    {
      "cell_type": "markdown",
      "metadata": {
        "id": "Q77AGkeJ53AV"
      },
      "source": [
        "![green-divider](https://user-images.githubusercontent.com/7065401/52071924-c003ad80-2562-11e9-8297-1c6595f8a7ff.png)\n",
        "\n",
        "### Reverse the given pandas Series (first element becomes last)"
      ]
    },
    {
      "cell_type": "code",
      "execution_count": 83,
      "metadata": {
        "id": "t5LsITIn53AW"
      },
      "outputs": [],
      "source": [
        "# your code goes here\n"
      ]
    },
    {
      "cell_type": "code",
      "execution_count": 84,
      "metadata": {
        "cell_type": "solution",
        "id": "jBQTe5C453AW",
        "outputId": "1a2b4a9f-de8e-4ddd-d5bc-50a75775b3fc",
        "colab": {
          "base_uri": "https://localhost:8080/"
        }
      },
      "outputs": [
        {
          "output_type": "execute_result",
          "data": {
            "text/plain": [
              "fifth     5\n",
              "forth     4\n",
              "third     3\n",
              "second    2\n",
              "first     1\n",
              "dtype: int64"
            ]
          },
          "metadata": {},
          "execution_count": 84
        }
      ],
      "source": [
        "X = pd.Series([1,2,3,4,5],\n",
        "              index=['first','second','third','forth','fifth'])\n",
        "\n",
        "X[::-1]"
      ]
    },
    {
      "cell_type": "markdown",
      "metadata": {
        "id": "HT_-QdXA53AW"
      },
      "source": [
        "![green-divider](https://user-images.githubusercontent.com/7065401/52071924-c003ad80-2562-11e9-8297-1c6595f8a7ff.png)\n",
        "\n",
        "### Order (sort) the given pandas Series\n"
      ]
    },
    {
      "cell_type": "code",
      "execution_count": 85,
      "metadata": {
        "id": "6y81xK_L53AW",
        "outputId": "74d77a61-9b3c-447d-92d6-71b177f77d85",
        "colab": {
          "base_uri": "https://localhost:8080/"
        }
      },
      "outputs": [
        {
          "output_type": "stream",
          "name": "stdout",
          "text": [
            "first     1\n",
            "second    2\n",
            "third     3\n",
            "forth     4\n",
            "fifth     5\n",
            "dtype: int64\n"
          ]
        }
      ],
      "source": [
        "X = X.sort_values()\n",
        "print(X)\n"
      ]
    },
    {
      "cell_type": "code",
      "execution_count": 86,
      "metadata": {
        "cell_type": "solution",
        "id": "mMwN5g1P53AX",
        "outputId": "5b608952-0671-4f03-fd52-d2ba8515cba8",
        "colab": {
          "base_uri": "https://localhost:8080/"
        }
      },
      "outputs": [
        {
          "output_type": "execute_result",
          "data": {
            "text/plain": [
              "first     1\n",
              "second    2\n",
              "third     3\n",
              "forth     4\n",
              "fifth     5\n",
              "dtype: int64"
            ]
          },
          "metadata": {},
          "execution_count": 86
        }
      ],
      "source": [
        "X = pd.Series([4,2,5,1,3],\n",
        "              index=['forth','second','fifth','first','third'])\n",
        "\n",
        "X = X.sort_values()\n",
        "X"
      ]
    },
    {
      "cell_type": "markdown",
      "metadata": {
        "id": "ritmVOcK53AX"
      },
      "source": [
        "![green-divider](https://user-images.githubusercontent.com/7065401/52071924-c003ad80-2562-11e9-8297-1c6595f8a7ff.png)\n",
        "\n",
        "### Given the X pandas Series, set the fifth element equal to 10\n"
      ]
    },
    {
      "cell_type": "code",
      "execution_count": 87,
      "metadata": {
        "id": "54h2sqcx53AX"
      },
      "outputs": [],
      "source": [
        "X[4] = 10\n"
      ]
    },
    {
      "cell_type": "code",
      "execution_count": 88,
      "metadata": {
        "cell_type": "solution",
        "id": "mkYjsDcJ53AX",
        "outputId": "b418abb5-87eb-48f8-f22b-b852f84d3012",
        "colab": {
          "base_uri": "https://localhost:8080/"
        }
      },
      "outputs": [
        {
          "output_type": "execute_result",
          "data": {
            "text/plain": [
              "A     1\n",
              "B     2\n",
              "C     3\n",
              "D     4\n",
              "E    10\n",
              "dtype: int64"
            ]
          },
          "metadata": {},
          "execution_count": 88
        }
      ],
      "source": [
        "X = pd.Series([1,2,3,4,5],\n",
        "              index=['A','B','C','D','E'])\n",
        "\n",
        "X[4] = 10\n",
        "X"
      ]
    },
    {
      "cell_type": "markdown",
      "metadata": {
        "id": "XntkYNZ553AY"
      },
      "source": [
        "![green-divider](https://user-images.githubusercontent.com/7065401/52071924-c003ad80-2562-11e9-8297-1c6595f8a7ff.png)\n",
        "\n",
        "### Given the X pandas Series, change all the middle elements to 0\n"
      ]
    },
    {
      "cell_type": "code",
      "execution_count": 89,
      "metadata": {
        "id": "rquBTV0553AY",
        "outputId": "91a6dd1f-00a6-4d68-e2c2-5e0c4f3fa201",
        "colab": {
          "base_uri": "https://localhost:8080/"
        }
      },
      "outputs": [
        {
          "output_type": "stream",
          "name": "stdout",
          "text": [
            "A     1\n",
            "B     0\n",
            "C     0\n",
            "D     0\n",
            "E    10\n",
            "dtype: int64\n"
          ]
        }
      ],
      "source": [
        "X[1:-1] = 0\n",
        "print(X)\n"
      ]
    },
    {
      "cell_type": "code",
      "execution_count": 90,
      "metadata": {
        "cell_type": "solution",
        "scrolled": false,
        "id": "nLvvyOEy53AY",
        "outputId": "80c4d131-85b7-4c5e-ba62-3a5ea2f75f28",
        "colab": {
          "base_uri": "https://localhost:8080/"
        }
      },
      "outputs": [
        {
          "output_type": "execute_result",
          "data": {
            "text/plain": [
              "A    1\n",
              "B    0\n",
              "C    0\n",
              "D    0\n",
              "E    5\n",
              "dtype: int64"
            ]
          },
          "metadata": {},
          "execution_count": 90
        }
      ],
      "source": [
        "X = pd.Series([1,2,3,4,5],\n",
        "              index=['A','B','C','D','E'])\n",
        "\n",
        "X[1:-1] = 0\n",
        "X"
      ]
    },
    {
      "cell_type": "markdown",
      "metadata": {
        "id": "q_2FX69t53AY"
      },
      "source": [
        "![green-divider](https://user-images.githubusercontent.com/7065401/52071924-c003ad80-2562-11e9-8297-1c6595f8a7ff.png)\n",
        "\n",
        "### Given the X pandas Series, add 5 to every element\n"
      ]
    },
    {
      "cell_type": "code",
      "execution_count": 91,
      "metadata": {
        "id": "4ohQWdGZ53AZ",
        "outputId": "f8b0bfb8-ef36-4c42-c8f0-56dcc482d37f",
        "colab": {
          "base_uri": "https://localhost:8080/"
        }
      },
      "outputs": [
        {
          "output_type": "execute_result",
          "data": {
            "text/plain": [
              "A     6\n",
              "B     5\n",
              "C     5\n",
              "D     5\n",
              "E    10\n",
              "dtype: int64"
            ]
          },
          "metadata": {},
          "execution_count": 91
        }
      ],
      "source": [
        "X + 5\n"
      ]
    },
    {
      "cell_type": "code",
      "execution_count": 92,
      "metadata": {
        "cell_type": "solution",
        "id": "G7uz6LLm53AZ",
        "outputId": "3ab1eeb4-173e-455b-d582-0df48af12ca0",
        "colab": {
          "base_uri": "https://localhost:8080/"
        }
      },
      "outputs": [
        {
          "output_type": "execute_result",
          "data": {
            "text/plain": [
              "0     6\n",
              "1     7\n",
              "2     8\n",
              "3     9\n",
              "4    10\n",
              "dtype: int64"
            ]
          },
          "metadata": {},
          "execution_count": 92
        }
      ],
      "source": [
        "X = pd.Series([1,2,3,4,5])\n",
        "\n",
        "X + 5"
      ]
    },
    {
      "cell_type": "markdown",
      "metadata": {
        "id": "CksnRWIv53AZ"
      },
      "source": [
        "![purple-divider](https://user-images.githubusercontent.com/7065401/52071927-c1cd7100-2562-11e9-908a-dde91ba14e59.png)\n",
        "\n",
        "## Series boolean arrays (also called masks)"
      ]
    },
    {
      "cell_type": "markdown",
      "metadata": {
        "id": "50k3mEgG53AZ"
      },
      "source": [
        "### Given the X pandas Series, make a mask showing negative elements\n"
      ]
    },
    {
      "cell_type": "code",
      "execution_count": 93,
      "metadata": {
        "id": "6W9S_SGZ53AZ",
        "outputId": "d2758cb1-ce5c-4361-ac82-a229fd026273",
        "colab": {
          "base_uri": "https://localhost:8080/"
        }
      },
      "outputs": [
        {
          "output_type": "stream",
          "name": "stdout",
          "text": [
            "0    False\n",
            "1    False\n",
            "2    False\n",
            "3    False\n",
            "4    False\n",
            "dtype: bool\n"
          ]
        }
      ],
      "source": [
        "maskOne = X <= 0\n",
        "print(maskOne)\n"
      ]
    },
    {
      "cell_type": "code",
      "execution_count": 94,
      "metadata": {
        "cell_type": "solution",
        "id": "NLis83K653Aa",
        "outputId": "a827f87d-cf19-46f5-924e-6c67b2fd0ab3",
        "colab": {
          "base_uri": "https://localhost:8080/"
        }
      },
      "outputs": [
        {
          "output_type": "execute_result",
          "data": {
            "text/plain": [
              "0     True\n",
              "1    False\n",
              "2     True\n",
              "3     True\n",
              "4    False\n",
              "5    False\n",
              "6     True\n",
              "7     True\n",
              "8     True\n",
              "9    False\n",
              "dtype: bool"
            ]
          },
          "metadata": {},
          "execution_count": 94
        }
      ],
      "source": [
        "X = pd.Series([-1,2,0,-4,5,6,0,0,-9,10])\n",
        "\n",
        "mask = X <= 0\n",
        "mask"
      ]
    },
    {
      "cell_type": "markdown",
      "metadata": {
        "id": "PaCrEvT853Aa"
      },
      "source": [
        "![green-divider](https://user-images.githubusercontent.com/7065401/52071924-c003ad80-2562-11e9-8297-1c6595f8a7ff.png)\n",
        "\n",
        "### Given the X pandas Series, get the negative elements\n"
      ]
    },
    {
      "cell_type": "code",
      "execution_count": 95,
      "metadata": {
        "id": "CmjXNaBo53Aa",
        "outputId": "21e41e76-ba16-4bc6-87b1-05dff0fce6cb",
        "colab": {
          "base_uri": "https://localhost:8080/"
        }
      },
      "outputs": [
        {
          "output_type": "execute_result",
          "data": {
            "text/plain": [
              "0   -1\n",
              "2    0\n",
              "3   -4\n",
              "6    0\n",
              "7    0\n",
              "8   -9\n",
              "dtype: int64"
            ]
          },
          "metadata": {},
          "execution_count": 95
        }
      ],
      "source": [
        "mask = X <= 0\n",
        "X[mask]\n"
      ]
    },
    {
      "cell_type": "code",
      "execution_count": 96,
      "metadata": {
        "cell_type": "solution",
        "id": "_wUx5zm553Aa",
        "outputId": "6380d407-16e8-47a0-c98f-023b5ca306fd",
        "colab": {
          "base_uri": "https://localhost:8080/"
        }
      },
      "outputs": [
        {
          "output_type": "execute_result",
          "data": {
            "text/plain": [
              "0   -1\n",
              "2    0\n",
              "3   -4\n",
              "6    0\n",
              "7    0\n",
              "8   -9\n",
              "dtype: int64"
            ]
          },
          "metadata": {},
          "execution_count": 96
        }
      ],
      "source": [
        "X = pd.Series([-1,2,0,-4,5,6,0,0,-9,10])\n",
        "\n",
        "mask = X <= 0\n",
        "X[mask]"
      ]
    },
    {
      "cell_type": "markdown",
      "metadata": {
        "id": "j01EdbmR53Aa"
      },
      "source": [
        "![green-divider](https://user-images.githubusercontent.com/7065401/52071924-c003ad80-2562-11e9-8297-1c6595f8a7ff.png)\n",
        "\n",
        "### Given the X pandas Series, get numbers higher than 5\n"
      ]
    },
    {
      "cell_type": "code",
      "execution_count": 97,
      "metadata": {
        "id": "_GcJ3hOW53Ab",
        "outputId": "7ca22ba2-3d45-47d7-d37b-e12631e6ca27",
        "colab": {
          "base_uri": "https://localhost:8080/"
        }
      },
      "outputs": [
        {
          "output_type": "execute_result",
          "data": {
            "text/plain": [
              "5     6\n",
              "9    10\n",
              "dtype: int64"
            ]
          },
          "metadata": {},
          "execution_count": 97
        }
      ],
      "source": [
        "mask = X > 5\n",
        "X[mask]\n"
      ]
    },
    {
      "cell_type": "code",
      "execution_count": 98,
      "metadata": {
        "cell_type": "solution",
        "id": "nt9Me1-753Ab",
        "outputId": "07dda490-b83f-40ae-9fc9-e089a10b26a0",
        "colab": {
          "base_uri": "https://localhost:8080/"
        }
      },
      "outputs": [
        {
          "output_type": "execute_result",
          "data": {
            "text/plain": [
              "5     6\n",
              "9    10\n",
              "dtype: int64"
            ]
          },
          "metadata": {},
          "execution_count": 98
        }
      ],
      "source": [
        "X = pd.Series([-1,2,0,-4,5,6,0,0,-9,10])\n",
        "\n",
        "mask = X > 5\n",
        "X[mask]"
      ]
    },
    {
      "cell_type": "markdown",
      "metadata": {
        "id": "ZT_S0xPk53Ab"
      },
      "source": [
        "![green-divider](https://user-images.githubusercontent.com/7065401/52071924-c003ad80-2562-11e9-8297-1c6595f8a7ff.png)\n",
        "\n",
        "### Given the X pandas Series, get numbers higher than the elements mean"
      ]
    },
    {
      "cell_type": "code",
      "execution_count": 99,
      "metadata": {
        "id": "lhamdvFA53Ab",
        "outputId": "59fc3498-50b0-4978-f290-dfea9abe99fd",
        "colab": {
          "base_uri": "https://localhost:8080/"
        }
      },
      "outputs": [
        {
          "output_type": "execute_result",
          "data": {
            "text/plain": [
              "1     2\n",
              "4     5\n",
              "5     6\n",
              "9    10\n",
              "dtype: int64"
            ]
          },
          "metadata": {},
          "execution_count": 99
        }
      ],
      "source": [
        "mask = X > X.mean()\n",
        "X[mask]\n"
      ]
    },
    {
      "cell_type": "code",
      "execution_count": 100,
      "metadata": {
        "cell_type": "solution",
        "id": "BoKujx0Z53Ac",
        "outputId": "c04d1b5e-2857-49ba-ee38-07fa5f02e442",
        "colab": {
          "base_uri": "https://localhost:8080/"
        }
      },
      "outputs": [
        {
          "output_type": "execute_result",
          "data": {
            "text/plain": [
              "1     2\n",
              "4     5\n",
              "5     6\n",
              "9    10\n",
              "dtype: int64"
            ]
          },
          "metadata": {},
          "execution_count": 100
        }
      ],
      "source": [
        "X = pd.Series([-1,2,0,-4,5,6,0,0,-9,10])\n",
        "\n",
        "mask = X > X.mean()\n",
        "X[mask]"
      ]
    },
    {
      "cell_type": "markdown",
      "metadata": {
        "id": "LBnWEhUc53Ac"
      },
      "source": [
        "![green-divider](https://user-images.githubusercontent.com/7065401/52071924-c003ad80-2562-11e9-8297-1c6595f8a7ff.png)\n",
        "\n",
        "### Given the X pandas Series, get numbers equal to 2 or 10\n"
      ]
    },
    {
      "cell_type": "code",
      "execution_count": 101,
      "metadata": {
        "id": "U3lazXZN53Ac",
        "outputId": "503585da-d3d9-4315-8e71-e2571fd02748",
        "colab": {
          "base_uri": "https://localhost:8080/"
        }
      },
      "outputs": [
        {
          "output_type": "execute_result",
          "data": {
            "text/plain": [
              "1     2\n",
              "9    10\n",
              "dtype: int64"
            ]
          },
          "metadata": {},
          "execution_count": 101
        }
      ],
      "source": [
        "mask = (X == 2) | (X == 10)\n",
        "\n",
        "X[mask]"
      ]
    },
    {
      "cell_type": "code",
      "execution_count": 102,
      "metadata": {
        "cell_type": "solution",
        "scrolled": true,
        "id": "h2NXg_v953Ad",
        "outputId": "0bf62711-937c-4dda-f47e-9f77ebb1d14c",
        "colab": {
          "base_uri": "https://localhost:8080/"
        }
      },
      "outputs": [
        {
          "output_type": "execute_result",
          "data": {
            "text/plain": [
              "1     2\n",
              "9    10\n",
              "dtype: int64"
            ]
          },
          "metadata": {},
          "execution_count": 102
        }
      ],
      "source": [
        "X = pd.Series([-1,2,0,-4,5,6,0,0,-9,10])\n",
        "\n",
        "mask = (X == 2) | (X == 10)\n",
        "X[mask]"
      ]
    },
    {
      "cell_type": "markdown",
      "metadata": {
        "id": "QsZL1si253Ad"
      },
      "source": [
        "![purple-divider](https://user-images.githubusercontent.com/7065401/52071927-c1cd7100-2562-11e9-908a-dde91ba14e59.png)\n",
        "\n",
        "## Logic functions"
      ]
    },
    {
      "cell_type": "markdown",
      "metadata": {
        "id": "5L2zOyBB53Ad"
      },
      "source": [
        "### Given the X pandas Series, return True if none of its elements is zero"
      ]
    },
    {
      "cell_type": "code",
      "execution_count": 103,
      "metadata": {
        "id": "Td8I_7wJ53Ad",
        "outputId": "281cabfc-d569-465b-fedd-e83687934c27",
        "colab": {
          "base_uri": "https://localhost:8080/"
        }
      },
      "outputs": [
        {
          "output_type": "execute_result",
          "data": {
            "text/plain": [
              "False"
            ]
          },
          "metadata": {},
          "execution_count": 103
        }
      ],
      "source": [
        "X.all()\n"
      ]
    },
    {
      "cell_type": "code",
      "execution_count": 104,
      "metadata": {
        "cell_type": "solution",
        "id": "LzyB_lq-53Ae",
        "outputId": "e486b47d-7e24-48f0-db5f-934e5a976013",
        "colab": {
          "base_uri": "https://localhost:8080/"
        }
      },
      "outputs": [
        {
          "output_type": "execute_result",
          "data": {
            "text/plain": [
              "False"
            ]
          },
          "metadata": {},
          "execution_count": 104
        }
      ],
      "source": [
        "X = pd.Series([-1,2,0,-4,5,6,0,0,-9,10])\n",
        "\n",
        "X.all()"
      ]
    },
    {
      "cell_type": "markdown",
      "metadata": {
        "id": "WkWKNst-53Ae"
      },
      "source": [
        "![green-divider](https://user-images.githubusercontent.com/7065401/52071924-c003ad80-2562-11e9-8297-1c6595f8a7ff.png)\n",
        "\n",
        "### Given the X pandas Series, return True if any of its elements is zero\n"
      ]
    },
    {
      "cell_type": "code",
      "execution_count": 105,
      "metadata": {
        "id": "inmmGgX153Af",
        "outputId": "941d2a71-9c6a-47d8-ac01-32485f668a7e",
        "colab": {
          "base_uri": "https://localhost:8080/"
        }
      },
      "outputs": [
        {
          "output_type": "execute_result",
          "data": {
            "text/plain": [
              "True"
            ]
          },
          "metadata": {},
          "execution_count": 105
        }
      ],
      "source": [
        "X.any(0)\n"
      ]
    },
    {
      "cell_type": "code",
      "execution_count": 106,
      "metadata": {
        "cell_type": "solution",
        "id": "0qRZSjxG53Af",
        "outputId": "d9f0749e-e729-4391-ec8f-a6a852d50d51",
        "colab": {
          "base_uri": "https://localhost:8080/"
        }
      },
      "outputs": [
        {
          "output_type": "execute_result",
          "data": {
            "text/plain": [
              "True"
            ]
          },
          "metadata": {},
          "execution_count": 106
        }
      ],
      "source": [
        "X = pd.Series([-1,2,0,-4,5,6,0,0,-9,10])\n",
        "\n",
        "X.any()"
      ]
    },
    {
      "cell_type": "markdown",
      "metadata": {
        "id": "YXUa4SAY53Af"
      },
      "source": [
        "![purple-divider](https://user-images.githubusercontent.com/7065401/52071927-c1cd7100-2562-11e9-908a-dde91ba14e59.png)\n",
        "\n",
        "## Summary statistics"
      ]
    },
    {
      "cell_type": "markdown",
      "metadata": {
        "id": "gHmaVmzY53Af"
      },
      "source": [
        "### Given the X pandas Series, show the sum of its elements\n"
      ]
    },
    {
      "cell_type": "code",
      "execution_count": 107,
      "metadata": {
        "id": "M7iExPLf53Af",
        "outputId": "1e78bb55-8d84-4bc1-dbe4-93cb6bd9090d",
        "colab": {
          "base_uri": "https://localhost:8080/"
        }
      },
      "outputs": [
        {
          "output_type": "execute_result",
          "data": {
            "text/plain": [
              "9"
            ]
          },
          "metadata": {},
          "execution_count": 107
        }
      ],
      "source": [
        "import numpy as np\n",
        "\n",
        "X.sum()\n"
      ]
    },
    {
      "cell_type": "code",
      "execution_count": 108,
      "metadata": {
        "cell_type": "solution",
        "id": "LQ_jUnU953Af",
        "outputId": "24913c4d-7f6b-47f5-f72a-fd9c587e6c8c",
        "colab": {
          "base_uri": "https://localhost:8080/"
        }
      },
      "outputs": [
        {
          "output_type": "execute_result",
          "data": {
            "text/plain": [
              "43"
            ]
          },
          "metadata": {},
          "execution_count": 108
        }
      ],
      "source": [
        "X = pd.Series([3,5,6,7,2,3,4,9,4])\n",
        "\n",
        "#np.sum(X)\n",
        "X.sum()"
      ]
    },
    {
      "cell_type": "markdown",
      "metadata": {
        "id": "GZsDS22_53Ag"
      },
      "source": [
        "![green-divider](https://user-images.githubusercontent.com/7065401/52071924-c003ad80-2562-11e9-8297-1c6595f8a7ff.png)\n",
        "\n",
        "### Given the X pandas Series, show the mean value of its elements"
      ]
    },
    {
      "cell_type": "code",
      "execution_count": 109,
      "metadata": {
        "id": "YenV8Z_153Ag",
        "outputId": "c1406531-1e95-4343-88b7-cdd57d1bebb1",
        "colab": {
          "base_uri": "https://localhost:8080/"
        }
      },
      "outputs": [
        {
          "output_type": "execute_result",
          "data": {
            "text/plain": [
              "4.777777777777778"
            ]
          },
          "metadata": {},
          "execution_count": 109
        }
      ],
      "source": [
        "X.mean()\n"
      ]
    },
    {
      "cell_type": "code",
      "execution_count": 110,
      "metadata": {
        "cell_type": "solution",
        "id": "xh8kN01V53Ag",
        "outputId": "3be9ac0c-823f-4e83-8583-85bf027a48e3",
        "colab": {
          "base_uri": "https://localhost:8080/"
        }
      },
      "outputs": [
        {
          "output_type": "execute_result",
          "data": {
            "text/plain": [
              "3.7"
            ]
          },
          "metadata": {},
          "execution_count": 110
        }
      ],
      "source": [
        "X = pd.Series([1,2,0,4,5,6,0,0,9,10])\n",
        "\n",
        "#np.mean(X)\n",
        "X.mean()"
      ]
    },
    {
      "cell_type": "markdown",
      "metadata": {
        "id": "xo0NDzrQ53Ag"
      },
      "source": [
        "![green-divider](https://user-images.githubusercontent.com/7065401/52071924-c003ad80-2562-11e9-8297-1c6595f8a7ff.png)\n",
        "\n",
        "### Given the X pandas Series, show the max value of its elements"
      ]
    },
    {
      "cell_type": "code",
      "execution_count": 111,
      "metadata": {
        "id": "WopNXRM253Ah",
        "outputId": "4550eb4c-326b-4149-eee1-c2720dbac3b4",
        "colab": {
          "base_uri": "https://localhost:8080/"
        }
      },
      "outputs": [
        {
          "output_type": "execute_result",
          "data": {
            "text/plain": [
              "10"
            ]
          },
          "metadata": {},
          "execution_count": 111
        }
      ],
      "source": [
        "X.max()\n"
      ]
    },
    {
      "cell_type": "code",
      "execution_count": 112,
      "metadata": {
        "cell_type": "solution",
        "id": "MOKc-8bw53Ah",
        "outputId": "02652fe4-f345-4fb3-95fa-8d669a82bf45",
        "colab": {
          "base_uri": "https://localhost:8080/"
        }
      },
      "outputs": [
        {
          "output_type": "execute_result",
          "data": {
            "text/plain": [
              "10"
            ]
          },
          "metadata": {},
          "execution_count": 112
        }
      ],
      "source": [
        "X = pd.Series([1,2,0,4,5,6,0,0,9,10])\n",
        "\n",
        "#np.max(X)\n",
        "X.max()"
      ]
    },
    {
      "cell_type": "markdown",
      "metadata": {
        "id": "Nqv4ePjl53Ah"
      },
      "source": [
        "![purple-divider](https://user-images.githubusercontent.com/7065401/52071927-c1cd7100-2562-11e9-908a-dde91ba14e59.png)"
      ]
    }
  ],
  "metadata": {
    "kernelspec": {
      "display_name": "Python 3",
      "language": "python",
      "name": "python3"
    },
    "language_info": {
      "codemirror_mode": {
        "name": "ipython",
        "version": 3
      },
      "file_extension": ".py",
      "mimetype": "text/x-python",
      "name": "python",
      "nbconvert_exporter": "python",
      "pygments_lexer": "ipython3",
      "version": "3.7.4"
    },
    "colab": {
      "provenance": [],
      "include_colab_link": true
    }
  },
  "nbformat": 4,
  "nbformat_minor": 0
}